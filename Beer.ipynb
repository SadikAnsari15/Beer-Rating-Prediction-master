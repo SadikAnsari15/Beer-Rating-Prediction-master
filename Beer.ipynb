{
 "cells": [
  {
   "cell_type": "code",
   "execution_count": 74,
   "id": "9bc9e78e",
   "metadata": {},
   "outputs": [],
   "source": [
    "# Name Sadik"
   ]
  },
  {
   "cell_type": "code",
   "execution_count": 2,
   "id": "6e5278f7",
   "metadata": {},
   "outputs": [],
   "source": [
    "import pandas as pd\n",
    "\n",
    "file_path = 'train.csv'\n",
    "df = pd.read_csv(file_path)"
   ]
  },
  {
   "cell_type": "code",
   "execution_count": 3,
   "id": "1679d230",
   "metadata": {},
   "outputs": [
    {
     "name": "stdout",
     "output_type": "stream",
     "text": [
      "<class 'pandas.core.frame.DataFrame'>\n",
      "RangeIndex: 37500 entries, 0 to 37499\n",
      "Data columns (total 19 columns):\n",
      " #   Column             Non-Null Count  Dtype  \n",
      "---  ------             --------------  -----  \n",
      " 0   index              37500 non-null  int64  \n",
      " 1   beer/ABV           37500 non-null  float64\n",
      " 2   beer/beerId        37500 non-null  int64  \n",
      " 3   beer/brewerId      37500 non-null  int64  \n",
      " 4   beer/name          37500 non-null  object \n",
      " 5   beer/style         37500 non-null  object \n",
      " 6   review/appearance  37500 non-null  float64\n",
      " 7   review/aroma       37500 non-null  float64\n",
      " 8   review/overall     37500 non-null  float64\n",
      " 9   review/palate      37500 non-null  float64\n",
      " 10  review/taste       37500 non-null  float64\n",
      " 11  review/text        37490 non-null  object \n",
      " 12  review/timeStruct  37500 non-null  object \n",
      " 13  review/timeUnix    37500 non-null  int64  \n",
      " 14  user/ageInSeconds  7856 non-null   float64\n",
      " 15  user/birthdayRaw   7856 non-null   object \n",
      " 16  user/birthdayUnix  7856 non-null   float64\n",
      " 17  user/gender        15314 non-null  object \n",
      " 18  user/profileName   37495 non-null  object \n",
      "dtypes: float64(8), int64(4), object(7)\n",
      "memory usage: 5.4+ MB\n"
     ]
    }
   ],
   "source": [
    "# Display basic information \n",
    "df.info()"
   ]
  },
  {
   "cell_type": "code",
   "execution_count": 4,
   "id": "d8caeb85",
   "metadata": {},
   "outputs": [
    {
     "data": {
      "text/html": [
       "<div>\n",
       "<style scoped>\n",
       "    .dataframe tbody tr th:only-of-type {\n",
       "        vertical-align: middle;\n",
       "    }\n",
       "\n",
       "    .dataframe tbody tr th {\n",
       "        vertical-align: top;\n",
       "    }\n",
       "\n",
       "    .dataframe thead th {\n",
       "        text-align: right;\n",
       "    }\n",
       "</style>\n",
       "<table border=\"1\" class=\"dataframe\">\n",
       "  <thead>\n",
       "    <tr style=\"text-align: right;\">\n",
       "      <th></th>\n",
       "      <th>index</th>\n",
       "      <th>beer/ABV</th>\n",
       "      <th>beer/beerId</th>\n",
       "      <th>beer/brewerId</th>\n",
       "      <th>beer/name</th>\n",
       "      <th>beer/style</th>\n",
       "      <th>review/appearance</th>\n",
       "      <th>review/aroma</th>\n",
       "      <th>review/overall</th>\n",
       "      <th>review/palate</th>\n",
       "      <th>review/taste</th>\n",
       "      <th>review/text</th>\n",
       "      <th>review/timeStruct</th>\n",
       "      <th>review/timeUnix</th>\n",
       "      <th>user/ageInSeconds</th>\n",
       "      <th>user/birthdayRaw</th>\n",
       "      <th>user/birthdayUnix</th>\n",
       "      <th>user/gender</th>\n",
       "      <th>user/profileName</th>\n",
       "    </tr>\n",
       "  </thead>\n",
       "  <tbody>\n",
       "    <tr>\n",
       "      <th>0</th>\n",
       "      <td>40163</td>\n",
       "      <td>5.0</td>\n",
       "      <td>46634</td>\n",
       "      <td>14338</td>\n",
       "      <td>Chiostro</td>\n",
       "      <td>Herbed / Spiced Beer</td>\n",
       "      <td>4.0</td>\n",
       "      <td>4.0</td>\n",
       "      <td>4.0</td>\n",
       "      <td>4.0</td>\n",
       "      <td>4.0</td>\n",
       "      <td>Pours a clouded gold with a thin white head. N...</td>\n",
       "      <td>{'min': 38, 'hour': 3, 'mday': 16, 'sec': 10, ...</td>\n",
       "      <td>1229398690</td>\n",
       "      <td>NaN</td>\n",
       "      <td>NaN</td>\n",
       "      <td>NaN</td>\n",
       "      <td>NaN</td>\n",
       "      <td>RblWthACoz</td>\n",
       "    </tr>\n",
       "    <tr>\n",
       "      <th>1</th>\n",
       "      <td>8135</td>\n",
       "      <td>11.0</td>\n",
       "      <td>3003</td>\n",
       "      <td>395</td>\n",
       "      <td>Bearded Pat's Barleywine</td>\n",
       "      <td>American Barleywine</td>\n",
       "      <td>4.0</td>\n",
       "      <td>3.5</td>\n",
       "      <td>3.5</td>\n",
       "      <td>3.5</td>\n",
       "      <td>3.0</td>\n",
       "      <td>12oz bottle into 8oz snifter.\\t\\tDeep ruby red...</td>\n",
       "      <td>{'min': 38, 'hour': 23, 'mday': 8, 'sec': 58, ...</td>\n",
       "      <td>1218238738</td>\n",
       "      <td>NaN</td>\n",
       "      <td>NaN</td>\n",
       "      <td>NaN</td>\n",
       "      <td>NaN</td>\n",
       "      <td>BeerSox</td>\n",
       "    </tr>\n",
       "    <tr>\n",
       "      <th>2</th>\n",
       "      <td>10529</td>\n",
       "      <td>4.7</td>\n",
       "      <td>961</td>\n",
       "      <td>365</td>\n",
       "      <td>Naughty Nellie's Ale</td>\n",
       "      <td>American Pale Ale (APA)</td>\n",
       "      <td>3.5</td>\n",
       "      <td>4.0</td>\n",
       "      <td>3.5</td>\n",
       "      <td>3.5</td>\n",
       "      <td>3.5</td>\n",
       "      <td>First enjoyed at the brewpub about 2 years ago...</td>\n",
       "      <td>{'min': 7, 'hour': 18, 'mday': 26, 'sec': 2, '...</td>\n",
       "      <td>1101492422</td>\n",
       "      <td>NaN</td>\n",
       "      <td>NaN</td>\n",
       "      <td>NaN</td>\n",
       "      <td>Male</td>\n",
       "      <td>mschofield</td>\n",
       "    </tr>\n",
       "    <tr>\n",
       "      <th>3</th>\n",
       "      <td>44610</td>\n",
       "      <td>4.4</td>\n",
       "      <td>429</td>\n",
       "      <td>1</td>\n",
       "      <td>Pilsner Urquell</td>\n",
       "      <td>Czech Pilsener</td>\n",
       "      <td>3.0</td>\n",
       "      <td>3.0</td>\n",
       "      <td>2.5</td>\n",
       "      <td>3.0</td>\n",
       "      <td>3.0</td>\n",
       "      <td>First thing I noticed after pouring from green...</td>\n",
       "      <td>{'min': 7, 'hour': 1, 'mday': 20, 'sec': 5, 'y...</td>\n",
       "      <td>1308532025</td>\n",
       "      <td>1.209827e+09</td>\n",
       "      <td>Aug 10, 1976</td>\n",
       "      <td>208508400.0</td>\n",
       "      <td>Male</td>\n",
       "      <td>molegar76</td>\n",
       "    </tr>\n",
       "    <tr>\n",
       "      <th>4</th>\n",
       "      <td>37062</td>\n",
       "      <td>4.4</td>\n",
       "      <td>4904</td>\n",
       "      <td>1417</td>\n",
       "      <td>Black Sheep Ale (Special)</td>\n",
       "      <td>English Pale Ale</td>\n",
       "      <td>4.0</td>\n",
       "      <td>3.0</td>\n",
       "      <td>3.0</td>\n",
       "      <td>3.5</td>\n",
       "      <td>2.5</td>\n",
       "      <td>A: pours an amber with a one finger head but o...</td>\n",
       "      <td>{'min': 51, 'hour': 6, 'mday': 12, 'sec': 48, ...</td>\n",
       "      <td>1299912708</td>\n",
       "      <td>NaN</td>\n",
       "      <td>NaN</td>\n",
       "      <td>NaN</td>\n",
       "      <td>NaN</td>\n",
       "      <td>Brewbro000</td>\n",
       "    </tr>\n",
       "  </tbody>\n",
       "</table>\n",
       "</div>"
      ],
      "text/plain": [
       "   index  beer/ABV  beer/beerId  beer/brewerId                  beer/name  \\\n",
       "0  40163       5.0        46634          14338                   Chiostro   \n",
       "1   8135      11.0         3003            395   Bearded Pat's Barleywine   \n",
       "2  10529       4.7          961            365       Naughty Nellie's Ale   \n",
       "3  44610       4.4          429              1            Pilsner Urquell   \n",
       "4  37062       4.4         4904           1417  Black Sheep Ale (Special)   \n",
       "\n",
       "                beer/style  review/appearance  review/aroma  review/overall  \\\n",
       "0     Herbed / Spiced Beer                4.0           4.0             4.0   \n",
       "1      American Barleywine                4.0           3.5             3.5   \n",
       "2  American Pale Ale (APA)                3.5           4.0             3.5   \n",
       "3           Czech Pilsener                3.0           3.0             2.5   \n",
       "4         English Pale Ale                4.0           3.0             3.0   \n",
       "\n",
       "   review/palate  review/taste  \\\n",
       "0            4.0           4.0   \n",
       "1            3.5           3.0   \n",
       "2            3.5           3.5   \n",
       "3            3.0           3.0   \n",
       "4            3.5           2.5   \n",
       "\n",
       "                                         review/text  \\\n",
       "0  Pours a clouded gold with a thin white head. N...   \n",
       "1  12oz bottle into 8oz snifter.\\t\\tDeep ruby red...   \n",
       "2  First enjoyed at the brewpub about 2 years ago...   \n",
       "3  First thing I noticed after pouring from green...   \n",
       "4  A: pours an amber with a one finger head but o...   \n",
       "\n",
       "                                   review/timeStruct  review/timeUnix  \\\n",
       "0  {'min': 38, 'hour': 3, 'mday': 16, 'sec': 10, ...       1229398690   \n",
       "1  {'min': 38, 'hour': 23, 'mday': 8, 'sec': 58, ...       1218238738   \n",
       "2  {'min': 7, 'hour': 18, 'mday': 26, 'sec': 2, '...       1101492422   \n",
       "3  {'min': 7, 'hour': 1, 'mday': 20, 'sec': 5, 'y...       1308532025   \n",
       "4  {'min': 51, 'hour': 6, 'mday': 12, 'sec': 48, ...       1299912708   \n",
       "\n",
       "   user/ageInSeconds user/birthdayRaw  user/birthdayUnix user/gender  \\\n",
       "0                NaN              NaN                NaN         NaN   \n",
       "1                NaN              NaN                NaN         NaN   \n",
       "2                NaN              NaN                NaN        Male   \n",
       "3       1.209827e+09     Aug 10, 1976        208508400.0        Male   \n",
       "4                NaN              NaN                NaN         NaN   \n",
       "\n",
       "  user/profileName  \n",
       "0       RblWthACoz  \n",
       "1          BeerSox  \n",
       "2       mschofield  \n",
       "3        molegar76  \n",
       "4       Brewbro000  "
      ]
     },
     "execution_count": 4,
     "metadata": {},
     "output_type": "execute_result"
    }
   ],
   "source": [
    "# Display the first few rows \n",
    "df.head()"
   ]
  },
  {
   "cell_type": "code",
   "execution_count": 6,
   "id": "e136b94c",
   "metadata": {},
   "outputs": [
    {
     "data": {
      "text/plain": [
       "(37500, 19)"
      ]
     },
     "execution_count": 6,
     "metadata": {},
     "output_type": "execute_result"
    }
   ],
   "source": [
    "# Display the shape\n",
    "df.shape"
   ]
  },
  {
   "cell_type": "code",
   "execution_count": 7,
   "id": "6c27b576",
   "metadata": {},
   "outputs": [
    {
     "data": {
      "text/plain": [
       "712500"
      ]
     },
     "execution_count": 7,
     "metadata": {},
     "output_type": "execute_result"
    }
   ],
   "source": [
    "# Display the size of the dataset\n",
    "df.size"
   ]
  },
  {
   "cell_type": "code",
   "execution_count": 8,
   "id": "72f85880",
   "metadata": {},
   "outputs": [
    {
     "data": {
      "text/html": [
       "<div>\n",
       "<style scoped>\n",
       "    .dataframe tbody tr th:only-of-type {\n",
       "        vertical-align: middle;\n",
       "    }\n",
       "\n",
       "    .dataframe tbody tr th {\n",
       "        vertical-align: top;\n",
       "    }\n",
       "\n",
       "    .dataframe thead th {\n",
       "        text-align: right;\n",
       "    }\n",
       "</style>\n",
       "<table border=\"1\" class=\"dataframe\">\n",
       "  <thead>\n",
       "    <tr style=\"text-align: right;\">\n",
       "      <th></th>\n",
       "      <th>index</th>\n",
       "      <th>beer/ABV</th>\n",
       "      <th>beer/beerId</th>\n",
       "      <th>beer/brewerId</th>\n",
       "      <th>review/appearance</th>\n",
       "      <th>review/aroma</th>\n",
       "      <th>review/overall</th>\n",
       "      <th>review/palate</th>\n",
       "      <th>review/taste</th>\n",
       "      <th>review/timeUnix</th>\n",
       "      <th>user/ageInSeconds</th>\n",
       "      <th>user/birthdayUnix</th>\n",
       "    </tr>\n",
       "  </thead>\n",
       "  <tbody>\n",
       "    <tr>\n",
       "      <th>count</th>\n",
       "      <td>37500.000000</td>\n",
       "      <td>37500.000000</td>\n",
       "      <td>37500.000000</td>\n",
       "      <td>37500.000000</td>\n",
       "      <td>37500.000000</td>\n",
       "      <td>37500.000000</td>\n",
       "      <td>37500.00000</td>\n",
       "      <td>37500.000000</td>\n",
       "      <td>37500.000000</td>\n",
       "      <td>3.750000e+04</td>\n",
       "      <td>7.856000e+03</td>\n",
       "      <td>7.856000e+03</td>\n",
       "    </tr>\n",
       "    <tr>\n",
       "      <th>mean</th>\n",
       "      <td>24951.887573</td>\n",
       "      <td>7.403725</td>\n",
       "      <td>21861.152027</td>\n",
       "      <td>3036.595120</td>\n",
       "      <td>3.900053</td>\n",
       "      <td>3.873240</td>\n",
       "      <td>3.88944</td>\n",
       "      <td>3.854867</td>\n",
       "      <td>3.922440</td>\n",
       "      <td>1.232794e+09</td>\n",
       "      <td>1.176705e+09</td>\n",
       "      <td>2.416303e+08</td>\n",
       "    </tr>\n",
       "    <tr>\n",
       "      <th>std</th>\n",
       "      <td>14434.009669</td>\n",
       "      <td>2.318145</td>\n",
       "      <td>18923.130832</td>\n",
       "      <td>5123.084675</td>\n",
       "      <td>0.588778</td>\n",
       "      <td>0.680865</td>\n",
       "      <td>0.70045</td>\n",
       "      <td>0.668068</td>\n",
       "      <td>0.716504</td>\n",
       "      <td>7.190955e+07</td>\n",
       "      <td>3.375514e+08</td>\n",
       "      <td>3.375514e+08</td>\n",
       "    </tr>\n",
       "    <tr>\n",
       "      <th>min</th>\n",
       "      <td>0.000000</td>\n",
       "      <td>0.100000</td>\n",
       "      <td>175.000000</td>\n",
       "      <td>1.000000</td>\n",
       "      <td>0.000000</td>\n",
       "      <td>1.000000</td>\n",
       "      <td>0.00000</td>\n",
       "      <td>1.000000</td>\n",
       "      <td>1.000000</td>\n",
       "      <td>9.262944e+08</td>\n",
       "      <td>7.034366e+08</td>\n",
       "      <td>-2.208960e+09</td>\n",
       "    </tr>\n",
       "    <tr>\n",
       "      <th>25%</th>\n",
       "      <td>12422.500000</td>\n",
       "      <td>5.400000</td>\n",
       "      <td>5441.000000</td>\n",
       "      <td>395.000000</td>\n",
       "      <td>3.500000</td>\n",
       "      <td>3.500000</td>\n",
       "      <td>3.50000</td>\n",
       "      <td>3.500000</td>\n",
       "      <td>3.500000</td>\n",
       "      <td>1.189194e+09</td>\n",
       "      <td>9.794810e+08</td>\n",
       "      <td>1.433628e+08</td>\n",
       "    </tr>\n",
       "    <tr>\n",
       "      <th>50%</th>\n",
       "      <td>24942.500000</td>\n",
       "      <td>6.900000</td>\n",
       "      <td>17538.000000</td>\n",
       "      <td>1199.000000</td>\n",
       "      <td>4.000000</td>\n",
       "      <td>4.000000</td>\n",
       "      <td>4.00000</td>\n",
       "      <td>4.000000</td>\n",
       "      <td>4.000000</td>\n",
       "      <td>1.248150e+09</td>\n",
       "      <td>1.100009e+09</td>\n",
       "      <td>3.183264e+08</td>\n",
       "    </tr>\n",
       "    <tr>\n",
       "      <th>75%</th>\n",
       "      <td>37416.750000</td>\n",
       "      <td>9.400000</td>\n",
       "      <td>34146.000000</td>\n",
       "      <td>1315.000000</td>\n",
       "      <td>4.500000</td>\n",
       "      <td>4.500000</td>\n",
       "      <td>4.50000</td>\n",
       "      <td>4.500000</td>\n",
       "      <td>4.500000</td>\n",
       "      <td>1.291330e+09</td>\n",
       "      <td>1.274973e+09</td>\n",
       "      <td>4.388544e+08</td>\n",
       "    </tr>\n",
       "    <tr>\n",
       "      <th>max</th>\n",
       "      <td>49999.000000</td>\n",
       "      <td>57.700000</td>\n",
       "      <td>77207.000000</td>\n",
       "      <td>27797.000000</td>\n",
       "      <td>5.000000</td>\n",
       "      <td>5.000000</td>\n",
       "      <td>5.00000</td>\n",
       "      <td>5.000000</td>\n",
       "      <td>5.000000</td>\n",
       "      <td>1.326267e+09</td>\n",
       "      <td>3.627295e+09</td>\n",
       "      <td>7.148988e+08</td>\n",
       "    </tr>\n",
       "  </tbody>\n",
       "</table>\n",
       "</div>"
      ],
      "text/plain": [
       "              index      beer/ABV   beer/beerId  beer/brewerId  \\\n",
       "count  37500.000000  37500.000000  37500.000000   37500.000000   \n",
       "mean   24951.887573      7.403725  21861.152027    3036.595120   \n",
       "std    14434.009669      2.318145  18923.130832    5123.084675   \n",
       "min        0.000000      0.100000    175.000000       1.000000   \n",
       "25%    12422.500000      5.400000   5441.000000     395.000000   \n",
       "50%    24942.500000      6.900000  17538.000000    1199.000000   \n",
       "75%    37416.750000      9.400000  34146.000000    1315.000000   \n",
       "max    49999.000000     57.700000  77207.000000   27797.000000   \n",
       "\n",
       "       review/appearance  review/aroma  review/overall  review/palate  \\\n",
       "count       37500.000000  37500.000000     37500.00000   37500.000000   \n",
       "mean            3.900053      3.873240         3.88944       3.854867   \n",
       "std             0.588778      0.680865         0.70045       0.668068   \n",
       "min             0.000000      1.000000         0.00000       1.000000   \n",
       "25%             3.500000      3.500000         3.50000       3.500000   \n",
       "50%             4.000000      4.000000         4.00000       4.000000   \n",
       "75%             4.500000      4.500000         4.50000       4.500000   \n",
       "max             5.000000      5.000000         5.00000       5.000000   \n",
       "\n",
       "       review/taste  review/timeUnix  user/ageInSeconds  user/birthdayUnix  \n",
       "count  37500.000000     3.750000e+04       7.856000e+03       7.856000e+03  \n",
       "mean       3.922440     1.232794e+09       1.176705e+09       2.416303e+08  \n",
       "std        0.716504     7.190955e+07       3.375514e+08       3.375514e+08  \n",
       "min        1.000000     9.262944e+08       7.034366e+08      -2.208960e+09  \n",
       "25%        3.500000     1.189194e+09       9.794810e+08       1.433628e+08  \n",
       "50%        4.000000     1.248150e+09       1.100009e+09       3.183264e+08  \n",
       "75%        4.500000     1.291330e+09       1.274973e+09       4.388544e+08  \n",
       "max        5.000000     1.326267e+09       3.627295e+09       7.148988e+08  "
      ]
     },
     "execution_count": 8,
     "metadata": {},
     "output_type": "execute_result"
    }
   ],
   "source": [
    "df.describe()"
   ]
  },
  {
   "cell_type": "code",
   "execution_count": 10,
   "id": "08db7850",
   "metadata": {},
   "outputs": [
    {
     "data": {
      "text/plain": [
       "index                    0\n",
       "beer/ABV                 0\n",
       "beer/beerId              0\n",
       "beer/brewerId            0\n",
       "beer/name                0\n",
       "beer/style               0\n",
       "review/appearance        0\n",
       "review/aroma             0\n",
       "review/overall           0\n",
       "review/palate            0\n",
       "review/taste             0\n",
       "review/text             10\n",
       "review/timeStruct        0\n",
       "review/timeUnix          0\n",
       "user/ageInSeconds    29644\n",
       "user/birthdayRaw     29644\n",
       "user/birthdayUnix    29644\n",
       "user/gender          22186\n",
       "user/profileName         5\n",
       "dtype: int64"
      ]
     },
     "execution_count": 10,
     "metadata": {},
     "output_type": "execute_result"
    }
   ],
   "source": [
    "# Display the sum of the null values\n",
    "df.isnull().sum()"
   ]
  },
  {
   "cell_type": "code",
   "execution_count": 11,
   "id": "17f124f2",
   "metadata": {},
   "outputs": [
    {
     "data": {
      "text/plain": [
       "Index(['index', 'beer/ABV', 'beer/beerId', 'beer/brewerId', 'beer/name',\n",
       "       'beer/style', 'review/appearance', 'review/aroma', 'review/overall',\n",
       "       'review/palate', 'review/taste', 'review/text', 'review/timeStruct',\n",
       "       'review/timeUnix', 'user/ageInSeconds', 'user/birthdayRaw',\n",
       "       'user/birthdayUnix', 'user/gender', 'user/profileName'],\n",
       "      dtype='object')"
      ]
     },
     "execution_count": 11,
     "metadata": {},
     "output_type": "execute_result"
    }
   ],
   "source": [
    "# Display the columns of dataset\n",
    "df.columns"
   ]
  },
  {
   "cell_type": "code",
   "execution_count": 12,
   "id": "0dfaf869",
   "metadata": {},
   "outputs": [],
   "source": [
    "df=df[['beer/beerId', 'beer/ABV', 'beer/brewerId', 'beer/name', 'beer/style', 'review/appearance', 'review/aroma', 'review/palate', 'review/taste', 'review/text', 'user/profileName','user/gender','review/overall']]"
   ]
  },
  {
   "cell_type": "code",
   "execution_count": 13,
   "id": "b69f66c9",
   "metadata": {},
   "outputs": [
    {
     "data": {
      "text/html": [
       "<div>\n",
       "<style scoped>\n",
       "    .dataframe tbody tr th:only-of-type {\n",
       "        vertical-align: middle;\n",
       "    }\n",
       "\n",
       "    .dataframe tbody tr th {\n",
       "        vertical-align: top;\n",
       "    }\n",
       "\n",
       "    .dataframe thead th {\n",
       "        text-align: right;\n",
       "    }\n",
       "</style>\n",
       "<table border=\"1\" class=\"dataframe\">\n",
       "  <thead>\n",
       "    <tr style=\"text-align: right;\">\n",
       "      <th></th>\n",
       "      <th>beer/beerId</th>\n",
       "      <th>beer/ABV</th>\n",
       "      <th>beer/brewerId</th>\n",
       "      <th>beer/name</th>\n",
       "      <th>beer/style</th>\n",
       "      <th>review/appearance</th>\n",
       "      <th>review/aroma</th>\n",
       "      <th>review/palate</th>\n",
       "      <th>review/taste</th>\n",
       "      <th>review/text</th>\n",
       "      <th>user/profileName</th>\n",
       "      <th>user/gender</th>\n",
       "      <th>review/overall</th>\n",
       "    </tr>\n",
       "  </thead>\n",
       "  <tbody>\n",
       "    <tr>\n",
       "      <th>0</th>\n",
       "      <td>46634</td>\n",
       "      <td>5.0</td>\n",
       "      <td>14338</td>\n",
       "      <td>Chiostro</td>\n",
       "      <td>Herbed / Spiced Beer</td>\n",
       "      <td>4.0</td>\n",
       "      <td>4.0</td>\n",
       "      <td>4.0</td>\n",
       "      <td>4.0</td>\n",
       "      <td>Pours a clouded gold with a thin white head. N...</td>\n",
       "      <td>RblWthACoz</td>\n",
       "      <td>NaN</td>\n",
       "      <td>4.0</td>\n",
       "    </tr>\n",
       "    <tr>\n",
       "      <th>1</th>\n",
       "      <td>3003</td>\n",
       "      <td>11.0</td>\n",
       "      <td>395</td>\n",
       "      <td>Bearded Pat's Barleywine</td>\n",
       "      <td>American Barleywine</td>\n",
       "      <td>4.0</td>\n",
       "      <td>3.5</td>\n",
       "      <td>3.5</td>\n",
       "      <td>3.0</td>\n",
       "      <td>12oz bottle into 8oz snifter.\\t\\tDeep ruby red...</td>\n",
       "      <td>BeerSox</td>\n",
       "      <td>NaN</td>\n",
       "      <td>3.5</td>\n",
       "    </tr>\n",
       "    <tr>\n",
       "      <th>2</th>\n",
       "      <td>961</td>\n",
       "      <td>4.7</td>\n",
       "      <td>365</td>\n",
       "      <td>Naughty Nellie's Ale</td>\n",
       "      <td>American Pale Ale (APA)</td>\n",
       "      <td>3.5</td>\n",
       "      <td>4.0</td>\n",
       "      <td>3.5</td>\n",
       "      <td>3.5</td>\n",
       "      <td>First enjoyed at the brewpub about 2 years ago...</td>\n",
       "      <td>mschofield</td>\n",
       "      <td>Male</td>\n",
       "      <td>3.5</td>\n",
       "    </tr>\n",
       "    <tr>\n",
       "      <th>3</th>\n",
       "      <td>429</td>\n",
       "      <td>4.4</td>\n",
       "      <td>1</td>\n",
       "      <td>Pilsner Urquell</td>\n",
       "      <td>Czech Pilsener</td>\n",
       "      <td>3.0</td>\n",
       "      <td>3.0</td>\n",
       "      <td>3.0</td>\n",
       "      <td>3.0</td>\n",
       "      <td>First thing I noticed after pouring from green...</td>\n",
       "      <td>molegar76</td>\n",
       "      <td>Male</td>\n",
       "      <td>2.5</td>\n",
       "    </tr>\n",
       "    <tr>\n",
       "      <th>4</th>\n",
       "      <td>4904</td>\n",
       "      <td>4.4</td>\n",
       "      <td>1417</td>\n",
       "      <td>Black Sheep Ale (Special)</td>\n",
       "      <td>English Pale Ale</td>\n",
       "      <td>4.0</td>\n",
       "      <td>3.0</td>\n",
       "      <td>3.5</td>\n",
       "      <td>2.5</td>\n",
       "      <td>A: pours an amber with a one finger head but o...</td>\n",
       "      <td>Brewbro000</td>\n",
       "      <td>NaN</td>\n",
       "      <td>3.0</td>\n",
       "    </tr>\n",
       "  </tbody>\n",
       "</table>\n",
       "</div>"
      ],
      "text/plain": [
       "   beer/beerId  beer/ABV  beer/brewerId                  beer/name  \\\n",
       "0        46634       5.0          14338                   Chiostro   \n",
       "1         3003      11.0            395   Bearded Pat's Barleywine   \n",
       "2          961       4.7            365       Naughty Nellie's Ale   \n",
       "3          429       4.4              1            Pilsner Urquell   \n",
       "4         4904       4.4           1417  Black Sheep Ale (Special)   \n",
       "\n",
       "                beer/style  review/appearance  review/aroma  review/palate  \\\n",
       "0     Herbed / Spiced Beer                4.0           4.0            4.0   \n",
       "1      American Barleywine                4.0           3.5            3.5   \n",
       "2  American Pale Ale (APA)                3.5           4.0            3.5   \n",
       "3           Czech Pilsener                3.0           3.0            3.0   \n",
       "4         English Pale Ale                4.0           3.0            3.5   \n",
       "\n",
       "   review/taste                                        review/text  \\\n",
       "0           4.0  Pours a clouded gold with a thin white head. N...   \n",
       "1           3.0  12oz bottle into 8oz snifter.\\t\\tDeep ruby red...   \n",
       "2           3.5  First enjoyed at the brewpub about 2 years ago...   \n",
       "3           3.0  First thing I noticed after pouring from green...   \n",
       "4           2.5  A: pours an amber with a one finger head but o...   \n",
       "\n",
       "  user/profileName user/gender  review/overall  \n",
       "0       RblWthACoz         NaN             4.0  \n",
       "1          BeerSox         NaN             3.5  \n",
       "2       mschofield        Male             3.5  \n",
       "3        molegar76        Male             2.5  \n",
       "4       Brewbro000         NaN             3.0  "
      ]
     },
     "execution_count": 13,
     "metadata": {},
     "output_type": "execute_result"
    }
   ],
   "source": [
    "df.head()"
   ]
  },
  {
   "cell_type": "code",
   "execution_count": 14,
   "id": "4445ce2a",
   "metadata": {},
   "outputs": [],
   "source": [
    "# drop the null value\n",
    "df = df.dropna(subset=['review/text'])"
   ]
  },
  {
   "cell_type": "code",
   "execution_count": 15,
   "id": "7af1cd5a",
   "metadata": {},
   "outputs": [
    {
     "data": {
      "text/plain": [
       "(37490, 13)"
      ]
     },
     "execution_count": 15,
     "metadata": {},
     "output_type": "execute_result"
    }
   ],
   "source": [
    "df.shape"
   ]
  },
  {
   "cell_type": "code",
   "execution_count": 17,
   "id": "eb736174",
   "metadata": {},
   "outputs": [],
   "source": [
    "df = df.dropna(subset = ['user/profileName'])"
   ]
  },
  {
   "cell_type": "code",
   "execution_count": 18,
   "id": "7aaaece6",
   "metadata": {},
   "outputs": [],
   "source": [
    "df['user/gender'].fillna('missing',inplace=True)"
   ]
  },
  {
   "cell_type": "code",
   "execution_count": 19,
   "id": "4b5132c9",
   "metadata": {},
   "outputs": [
    {
     "data": {
      "text/plain": [
       "beer/beerId          0\n",
       "beer/ABV             0\n",
       "beer/brewerId        0\n",
       "beer/name            0\n",
       "beer/style           0\n",
       "review/appearance    0\n",
       "review/aroma         0\n",
       "review/palate        0\n",
       "review/taste         0\n",
       "review/text          0\n",
       "user/profileName     0\n",
       "user/gender          0\n",
       "review/overall       0\n",
       "dtype: int64"
      ]
     },
     "execution_count": 19,
     "metadata": {},
     "output_type": "execute_result"
    }
   ],
   "source": [
    "df.isnull().sum()"
   ]
  },
  {
   "cell_type": "code",
   "execution_count": 20,
   "id": "3aed0d0f",
   "metadata": {},
   "outputs": [],
   "source": [
    "df = df.reset_index()"
   ]
  },
  {
   "cell_type": "code",
   "execution_count": 21,
   "id": "2a85652a",
   "metadata": {},
   "outputs": [],
   "source": [
    "from nltk.stem.porter import PorterStemmer\n",
    "from nltk.corpus import stopwords\n",
    "from nltk import word_tokenize\n",
    "import re"
   ]
  },
  {
   "cell_type": "code",
   "execution_count": 22,
   "id": "8f93273b",
   "metadata": {},
   "outputs": [],
   "source": [
    "ps=PorterStemmer()\n",
    "stop_words=stopwords.words('english')\n",
    "def conv(data,col):\n",
    "  corpus=[]\n",
    "  for i in range(0,len(df)):\n",
    "    review=re.sub('[^a-zA-Z]',' ',df[col][i])\n",
    "    review=review.lower()\n",
    "    review= word_tokenize(review)\n",
    "    review= [ps.stem(word) for word in review if not word in stop_words]\n",
    "    review = ' '.join(review)\n",
    "    corpus.append(review)\n",
    "  return corpus"
   ]
  },
  {
   "cell_type": "code",
   "execution_count": 23,
   "id": "2216d9fa",
   "metadata": {},
   "outputs": [],
   "source": [
    "df['beer/name']=conv(df,'beer/name')"
   ]
  },
  {
   "cell_type": "code",
   "execution_count": 24,
   "id": "d85e5e67",
   "metadata": {},
   "outputs": [],
   "source": [
    "df['beer/style']=conv(df,'beer/style')"
   ]
  },
  {
   "cell_type": "code",
   "execution_count": 25,
   "id": "7edf1b64",
   "metadata": {},
   "outputs": [],
   "source": [
    "df['review/text']=conv(df,'review/text')"
   ]
  },
  {
   "cell_type": "code",
   "execution_count": 26,
   "id": "dbc4f8bd",
   "metadata": {},
   "outputs": [],
   "source": [
    "df['beer/name']=df['beer/name'].astype('category')\n",
    "df['beer/style']=df['beer/style'].astype('category')"
   ]
  },
  {
   "cell_type": "code",
   "execution_count": 27,
   "id": "174ae86f",
   "metadata": {},
   "outputs": [
    {
     "data": {
      "text/html": [
       "<div>\n",
       "<style scoped>\n",
       "    .dataframe tbody tr th:only-of-type {\n",
       "        vertical-align: middle;\n",
       "    }\n",
       "\n",
       "    .dataframe tbody tr th {\n",
       "        vertical-align: top;\n",
       "    }\n",
       "\n",
       "    .dataframe thead th {\n",
       "        text-align: right;\n",
       "    }\n",
       "</style>\n",
       "<table border=\"1\" class=\"dataframe\">\n",
       "  <thead>\n",
       "    <tr style=\"text-align: right;\">\n",
       "      <th></th>\n",
       "      <th>index</th>\n",
       "      <th>beer/beerId</th>\n",
       "      <th>beer/ABV</th>\n",
       "      <th>beer/brewerId</th>\n",
       "      <th>beer/name</th>\n",
       "      <th>beer/style</th>\n",
       "      <th>review/appearance</th>\n",
       "      <th>review/aroma</th>\n",
       "      <th>review/palate</th>\n",
       "      <th>review/taste</th>\n",
       "      <th>review/text</th>\n",
       "      <th>user/profileName</th>\n",
       "      <th>user/gender</th>\n",
       "      <th>review/overall</th>\n",
       "    </tr>\n",
       "  </thead>\n",
       "  <tbody>\n",
       "    <tr>\n",
       "      <th>0</th>\n",
       "      <td>0</td>\n",
       "      <td>46634</td>\n",
       "      <td>5.0</td>\n",
       "      <td>14338</td>\n",
       "      <td>chiostro</td>\n",
       "      <td>herb spice beer</td>\n",
       "      <td>4.0</td>\n",
       "      <td>4.0</td>\n",
       "      <td>4.0</td>\n",
       "      <td>4.0</td>\n",
       "      <td>pour cloud gold thin white head nose quit flor...</td>\n",
       "      <td>RblWthACoz</td>\n",
       "      <td>missing</td>\n",
       "      <td>4.0</td>\n",
       "    </tr>\n",
       "    <tr>\n",
       "      <th>1</th>\n",
       "      <td>1</td>\n",
       "      <td>3003</td>\n",
       "      <td>11.0</td>\n",
       "      <td>395</td>\n",
       "      <td>beard pat barleywin</td>\n",
       "      <td>american barleywin</td>\n",
       "      <td>4.0</td>\n",
       "      <td>3.5</td>\n",
       "      <td>3.5</td>\n",
       "      <td>3.0</td>\n",
       "      <td>oz bottl oz snifter deep rubi red hue one fing...</td>\n",
       "      <td>BeerSox</td>\n",
       "      <td>missing</td>\n",
       "      <td>3.5</td>\n",
       "    </tr>\n",
       "    <tr>\n",
       "      <th>2</th>\n",
       "      <td>2</td>\n",
       "      <td>961</td>\n",
       "      <td>4.7</td>\n",
       "      <td>365</td>\n",
       "      <td>naughti nelli ale</td>\n",
       "      <td>american pale ale apa</td>\n",
       "      <td>3.5</td>\n",
       "      <td>4.0</td>\n",
       "      <td>3.5</td>\n",
       "      <td>3.5</td>\n",
       "      <td>first enjoy brewpub year ago final manag get b...</td>\n",
       "      <td>mschofield</td>\n",
       "      <td>Male</td>\n",
       "      <td>3.5</td>\n",
       "    </tr>\n",
       "    <tr>\n",
       "      <th>3</th>\n",
       "      <td>3</td>\n",
       "      <td>429</td>\n",
       "      <td>4.4</td>\n",
       "      <td>1</td>\n",
       "      <td>pilsner urquel</td>\n",
       "      <td>czech pilsen</td>\n",
       "      <td>3.0</td>\n",
       "      <td>3.0</td>\n",
       "      <td>3.0</td>\n",
       "      <td>3.0</td>\n",
       "      <td>first thing notic pour green bottl glass skunk...</td>\n",
       "      <td>molegar76</td>\n",
       "      <td>Male</td>\n",
       "      <td>2.5</td>\n",
       "    </tr>\n",
       "    <tr>\n",
       "      <th>4</th>\n",
       "      <td>4</td>\n",
       "      <td>4904</td>\n",
       "      <td>4.4</td>\n",
       "      <td>1417</td>\n",
       "      <td>black sheep ale special</td>\n",
       "      <td>english pale ale</td>\n",
       "      <td>4.0</td>\n",
       "      <td>3.0</td>\n",
       "      <td>3.5</td>\n",
       "      <td>2.5</td>\n",
       "      <td>pour amber one finger head strong pour head re...</td>\n",
       "      <td>Brewbro000</td>\n",
       "      <td>missing</td>\n",
       "      <td>3.0</td>\n",
       "    </tr>\n",
       "  </tbody>\n",
       "</table>\n",
       "</div>"
      ],
      "text/plain": [
       "   index  beer/beerId  beer/ABV  beer/brewerId                beer/name  \\\n",
       "0      0        46634       5.0          14338                 chiostro   \n",
       "1      1         3003      11.0            395      beard pat barleywin   \n",
       "2      2          961       4.7            365        naughti nelli ale   \n",
       "3      3          429       4.4              1           pilsner urquel   \n",
       "4      4         4904       4.4           1417  black sheep ale special   \n",
       "\n",
       "              beer/style  review/appearance  review/aroma  review/palate  \\\n",
       "0        herb spice beer                4.0           4.0            4.0   \n",
       "1     american barleywin                4.0           3.5            3.5   \n",
       "2  american pale ale apa                3.5           4.0            3.5   \n",
       "3           czech pilsen                3.0           3.0            3.0   \n",
       "4       english pale ale                4.0           3.0            3.5   \n",
       "\n",
       "   review/taste                                        review/text  \\\n",
       "0           4.0  pour cloud gold thin white head nose quit flor...   \n",
       "1           3.0  oz bottl oz snifter deep rubi red hue one fing...   \n",
       "2           3.5  first enjoy brewpub year ago final manag get b...   \n",
       "3           3.0  first thing notic pour green bottl glass skunk...   \n",
       "4           2.5  pour amber one finger head strong pour head re...   \n",
       "\n",
       "  user/profileName user/gender  review/overall  \n",
       "0       RblWthACoz     missing             4.0  \n",
       "1          BeerSox     missing             3.5  \n",
       "2       mschofield        Male             3.5  \n",
       "3        molegar76        Male             2.5  \n",
       "4       Brewbro000     missing             3.0  "
      ]
     },
     "execution_count": 27,
     "metadata": {},
     "output_type": "execute_result"
    }
   ],
   "source": [
    "df.head()"
   ]
  },
  {
   "cell_type": "code",
   "execution_count": 28,
   "id": "67f07875",
   "metadata": {},
   "outputs": [
    {
     "data": {
      "text/plain": [
       "Index(['index', 'beer/beerId', 'beer/ABV', 'beer/brewerId', 'beer/name',\n",
       "       'beer/style', 'review/appearance', 'review/aroma', 'review/palate',\n",
       "       'review/taste', 'review/text', 'user/profileName', 'user/gender',\n",
       "       'review/overall'],\n",
       "      dtype='object')"
      ]
     },
     "execution_count": 28,
     "metadata": {},
     "output_type": "execute_result"
    }
   ],
   "source": [
    "df.columns"
   ]
  },
  {
   "cell_type": "code",
   "execution_count": 29,
   "id": "8c212845",
   "metadata": {},
   "outputs": [],
   "source": [
    "df.drop(['index','user/profileName'],axis=1,inplace=True)"
   ]
  },
  {
   "cell_type": "code",
   "execution_count": 31,
   "id": "77684ba2",
   "metadata": {},
   "outputs": [],
   "source": [
    "from sklearn.model_selection import train_test_split\n",
    "from sklearn.preprocessing import OneHotEncoder"
   ]
  },
  {
   "cell_type": "code",
   "execution_count": 32,
   "id": "f022fd53",
   "metadata": {},
   "outputs": [],
   "source": [
    "x_train,x_test,y_train,y_test = train_test_split(df,df['review/overall'],test_size=0.3,random_state = 42)"
   ]
  },
  {
   "cell_type": "code",
   "execution_count": 33,
   "id": "444e83d8",
   "metadata": {},
   "outputs": [],
   "source": [
    "def vector(x,n):\n",
    "  scalers = StandardScaler()\n",
    "  scalers.fit(x.values.reshape(-1,1))\n",
    "  s_train = scalers.transform(x.values.reshape(-1,1))\n",
    "  s_test = scalers.transform(n.values.reshape(-1,1))\n",
    "  return s_train,s_test"
   ]
  },
  {
   "cell_type": "code",
   "execution_count": 35,
   "id": "f68ecf45",
   "metadata": {},
   "outputs": [],
   "source": [
    "from sklearn.preprocessing import StandardScaler"
   ]
  },
  {
   "cell_type": "code",
   "execution_count": 36,
   "id": "2a59df71",
   "metadata": {},
   "outputs": [],
   "source": [
    "s_train_0,s_test_0 = vector(x_train['beer/beerId'],x_test['beer/beerId'])"
   ]
  },
  {
   "cell_type": "code",
   "execution_count": 37,
   "id": "467dc0e1",
   "metadata": {},
   "outputs": [],
   "source": [
    "s_train_1,s_test_1 = vector(x_train['beer/brewerId'],x_test['beer/brewerId'])"
   ]
  },
  {
   "cell_type": "code",
   "execution_count": 38,
   "id": "7d3e9bdf",
   "metadata": {},
   "outputs": [],
   "source": [
    "s_train_2,s_test_2=vector(x_train['beer/ABV'],x_test['beer/ABV'])"
   ]
  },
  {
   "cell_type": "code",
   "execution_count": 39,
   "id": "544fceab",
   "metadata": {},
   "outputs": [],
   "source": [
    "s_train_3,s_test_3=vector(x_train['review/appearance'],x_test['review/appearance'])"
   ]
  },
  {
   "cell_type": "code",
   "execution_count": 40,
   "id": "e55cfe38",
   "metadata": {},
   "outputs": [],
   "source": [
    "s_train_4,s_test_4=vector(x_train['review/aroma'],x_test['review/aroma'])"
   ]
  },
  {
   "cell_type": "code",
   "execution_count": 41,
   "id": "5fe1123a",
   "metadata": {},
   "outputs": [],
   "source": [
    "s_train_5,s_test_5=vector(x_train['review/palate'],x_test['review/palate'])"
   ]
  },
  {
   "cell_type": "code",
   "execution_count": 42,
   "id": "1835ff42",
   "metadata": {},
   "outputs": [],
   "source": [
    "s_train_6,s_test_6=vector(x_train['review/taste'],x_test['review/taste'])"
   ]
  },
  {
   "cell_type": "code",
   "execution_count": null,
   "id": "27658aa8",
   "metadata": {},
   "outputs": [],
   "source": []
  },
  {
   "cell_type": "code",
   "execution_count": 43,
   "id": "bda03145",
   "metadata": {},
   "outputs": [],
   "source": [
    "def catt_vec(m,o):\n",
    "  counter=Counter()\n",
    "  for i in m.values:\n",
    "    counter.update(str(i).split())\n",
    "    category_dict=dict(counter)\n",
    "    sorted_dict=dict(sorted(category_dict.items(),key=lambda x:x[1]))\n",
    "    vec=CountVectorizer(vocabulary=list(sorted_dict.keys()),binary=True)\n",
    "    vec.fit(m.values)\n",
    "    train=vec.transform(m.values)\n",
    "    test=vec.transform(o.values)\n",
    "    return train,test"
   ]
  },
  {
   "cell_type": "code",
   "execution_count": 44,
   "id": "4d198304",
   "metadata": {},
   "outputs": [],
   "source": [
    "from sklearn.preprocessing import StandardScaler\n",
    "from sklearn.model_selection import train_test_split\n",
    "from collections import Counter\n",
    "from sklearn.feature_extraction.text import TfidfVectorizer\n",
    "from sklearn.feature_extraction.text import CountVectorizer\n",
    "import re\n",
    "from scipy.sparse import hstack"
   ]
  },
  {
   "cell_type": "code",
   "execution_count": 45,
   "id": "d078e81b",
   "metadata": {},
   "outputs": [],
   "source": [
    "s_train_7,s_test_7=catt_vec(x_train['beer/name'],x_test['beer/name'])"
   ]
  },
  {
   "cell_type": "code",
   "execution_count": 46,
   "id": "0eebeac6",
   "metadata": {},
   "outputs": [],
   "source": [
    "s_train_8,s_test_8=catt_vec(x_train['beer/style'],x_test['beer/style'])"
   ]
  },
  {
   "cell_type": "code",
   "execution_count": 47,
   "id": "affa1737",
   "metadata": {},
   "outputs": [
    {
     "name": "stderr",
     "output_type": "stream",
     "text": [
      "C:\\Users\\HP\\anaconda3\\lib\\site-packages\\sklearn\\feature_extraction\\text.py:1322: UserWarning: Upper case characters found in vocabulary while 'lowercase' is True. These entries will not be matched with any documents\n",
      "  warnings.warn(\n"
     ]
    }
   ],
   "source": [
    "s_train_9,s_test_9=catt_vec(x_train['user/gender'],x_test['user/gender'])"
   ]
  },
  {
   "cell_type": "code",
   "execution_count": 48,
   "id": "e171c5c7",
   "metadata": {},
   "outputs": [],
   "source": [
    "tf=TfidfVectorizer()"
   ]
  },
  {
   "cell_type": "code",
   "execution_count": 49,
   "id": "e975ec87",
   "metadata": {},
   "outputs": [
    {
     "data": {
      "text/plain": [
       "TfidfVectorizer()"
      ]
     },
     "execution_count": 49,
     "metadata": {},
     "output_type": "execute_result"
    }
   ],
   "source": [
    "tf.fit(list(x_train['review/text']),list(x_test['review/text']))"
   ]
  },
  {
   "cell_type": "code",
   "execution_count": 50,
   "id": "bcf72201",
   "metadata": {},
   "outputs": [],
   "source": [
    "s_train_10 = tf.transform(x_train['review/text'])\n",
    "s_test_10=tf.transform(x_test['review/text'])"
   ]
  },
  {
   "cell_type": "code",
   "execution_count": 51,
   "id": "99ab1318",
   "metadata": {},
   "outputs": [],
   "source": [
    "x_training = hstack((s_train_0,s_train_1,s_train_2,s_train_3,s_train_4,s_train_5,s_train_6,s_train_7,s_train_8,s_train_9,s_train_10)).tocsr()"
   ]
  },
  {
   "cell_type": "code",
   "execution_count": 52,
   "id": "702c2ef6",
   "metadata": {},
   "outputs": [],
   "source": [
    "x_testt = hstack((s_test_0,s_test_1,s_test_2,s_test_3,s_test_4,s_test_5,s_test_6,s_test_7,s_test_8,s_test_9,s_test_10)).tocsr()"
   ]
  },
  {
   "cell_type": "code",
   "execution_count": 54,
   "id": "05f7dc73",
   "metadata": {},
   "outputs": [],
   "source": [
    "import numpy as np"
   ]
  },
  {
   "cell_type": "code",
   "execution_count": 55,
   "id": "647cd208",
   "metadata": {},
   "outputs": [],
   "source": [
    "y_train = np.array(list(y_train))"
   ]
  },
  {
   "cell_type": "code",
   "execution_count": 56,
   "id": "8b66dcdd",
   "metadata": {},
   "outputs": [],
   "source": [
    "y_test = np.array(list(y_test))"
   ]
  },
  {
   "cell_type": "code",
   "execution_count": 57,
   "id": "e116007b",
   "metadata": {},
   "outputs": [],
   "source": [
    "from sklearn.model_selection import GridSearchCV\n",
    "from sklearn.ensemble import RandomForestRegressor\n",
    "import xgboost as xgb\n",
    "from sklearn import linear_model\n",
    "from sklearn import ensemble\n",
    "\n",
    "from sklearn.metrics import mean_squared_error\n",
    "\n",
    "from sklearn.metrics import r2_score\n",
    "\n",
    "\n",
    "import warnings\n",
    "warnings.filterwarnings('ignore')"
   ]
  },
  {
   "cell_type": "code",
   "execution_count": 58,
   "id": "e7574b3f",
   "metadata": {},
   "outputs": [
    {
     "name": "stdout",
     "output_type": "stream",
     "text": [
      "Fitting 5 folds for each of 16 candidates, totalling 80 fits\n",
      "{'max_depth': 8, 'n_estimators': 500}\n"
     ]
    }
   ],
   "source": [
    "regr2 = RandomForestRegressor(max_features='sqrt')\n",
    "\n",
    "\n",
    "parameters = {'n_estimators':[50,100,300,500],'max_depth':[5,6,7,8]}\n",
    "\n",
    "\n",
    "clf = GridSearchCV(regr2,\n",
    "                    param_grid = parameters,\n",
    "                    scoring=\"neg_mean_squared_error\",\n",
    "                    cv = 5,\n",
    "                    n_jobs = -1,\n",
    "                    verbose = 1)\n",
    "result = clf.fit(x_training, y_train)\n",
    "\n",
    "\n",
    "print(result.best_params_)\n"
   ]
  },
  {
   "cell_type": "code",
   "execution_count": 59,
   "id": "f5a34c29",
   "metadata": {},
   "outputs": [
    {
     "data": {
      "text/plain": [
       "RandomForestRegressor(max_depth=8)"
      ]
     },
     "execution_count": 59,
     "metadata": {},
     "output_type": "execute_result"
    }
   ],
   "source": [
    "rfr = RandomForestRegressor(max_depth=8,n_estimators=100)\n",
    "rfr.fit(x_training,y_train)"
   ]
  },
  {
   "cell_type": "code",
   "execution_count": 60,
   "id": "35617f98",
   "metadata": {},
   "outputs": [],
   "source": [
    "y_pred_rf = rfr.predict(x_testt)"
   ]
  },
  {
   "cell_type": "code",
   "execution_count": 61,
   "id": "bf899c34",
   "metadata": {},
   "outputs": [],
   "source": [
    "score_rf =  r2_score(y_pred_rf,y_test)"
   ]
  },
  {
   "cell_type": "code",
   "execution_count": 62,
   "id": "2737fcaf",
   "metadata": {},
   "outputs": [
    {
     "data": {
      "text/plain": [
       "0.5204920621147693"
      ]
     },
     "execution_count": 62,
     "metadata": {},
     "output_type": "execute_result"
    }
   ],
   "source": [
    "score_rf"
   ]
  },
  {
   "cell_type": "code",
   "execution_count": 71,
   "id": "7a57a986",
   "metadata": {},
   "outputs": [],
   "source": [
    "from sklearn.model_selection import GridSearchCV\n",
    "from sklearn.ensemble import RandomForestRegressor\n",
    "import xgboost as xgb\n",
    "from sklearn import linear_model\n",
    "from sklearn import ensemble\n",
    "\n",
    "from sklearn.metrics import mean_squared_error\n",
    "\n",
    "from sklearn.metrics import r2_score"
   ]
  },
  {
   "cell_type": "code",
   "execution_count": 63,
   "id": "2cd5d951",
   "metadata": {},
   "outputs": [
    {
     "name": "stdout",
     "output_type": "stream",
     "text": [
      "Fitting 2 folds for each of 8 candidates, totalling 16 fits\n",
      "[18:49:42] WARNING: C:/Users/Administrator/workspace/xgboost-win64_release_1.5.1/src/learner.cc:576: \n",
      "Parameters: { \"silent\" } might not be used.\n",
      "\n",
      "  This could be a false alarm, with some parameters getting used by language bindings but\n",
      "  then being mistakenly passed down to XGBoost core, or some parameter actually being used\n",
      "  but getting flagged wrongly here. Please open an issue if you find any such cases.\n",
      "\n",
      "\n",
      "{'learning_rate': 0.1, 'max_depth': 4, 'n_estimators': 300}\n"
     ]
    }
   ],
   "source": [
    "regr = xgb.XGBRegressor(silent=False, random_state=15)\n",
    "\n",
    "\n",
    "\n",
    "parameters = {'learning_rate':[0.01,0.1],'n_estimators':[300,500],'max_depth':[3,4]}\n",
    "\n",
    "\n",
    "clf = GridSearchCV(regr,\n",
    "                    param_grid = parameters,\n",
    "                    scoring=\"neg_mean_squared_error\",\n",
    "                    cv=2,\n",
    "                    n_jobs = -1,\n",
    "                    verbose = 1)\n",
    "result = clf.fit(x_training,y_train)\n",
    "\n",
    "print(result.best_params_)\n"
   ]
  },
  {
   "cell_type": "code",
   "execution_count": 64,
   "id": "b2cc971e",
   "metadata": {},
   "outputs": [],
   "source": [
    "xgb = xgb.XGBRegressor(learning_rate = 0.1, max_depth = 4, n_estimators = 300)"
   ]
  },
  {
   "cell_type": "code",
   "execution_count": 65,
   "id": "20af33c0",
   "metadata": {},
   "outputs": [
    {
     "data": {
      "text/plain": [
       "XGBRegressor(base_score=0.5, booster='gbtree', colsample_bylevel=1,\n",
       "             colsample_bynode=1, colsample_bytree=1, enable_categorical=False,\n",
       "             gamma=0, gpu_id=-1, importance_type=None,\n",
       "             interaction_constraints='', learning_rate=0.1, max_delta_step=0,\n",
       "             max_depth=4, min_child_weight=1, missing=nan,\n",
       "             monotone_constraints='()', n_estimators=300, n_jobs=8,\n",
       "             num_parallel_tree=1, predictor='auto', random_state=0, reg_alpha=0,\n",
       "             reg_lambda=1, scale_pos_weight=1, subsample=1, tree_method='exact',\n",
       "             validate_parameters=1, verbosity=None)"
      ]
     },
     "execution_count": 65,
     "metadata": {},
     "output_type": "execute_result"
    }
   ],
   "source": [
    "xgb.fit(x_training,y_train)"
   ]
  },
  {
   "cell_type": "code",
   "execution_count": 66,
   "id": "15d18f1e",
   "metadata": {},
   "outputs": [],
   "source": [
    "y_pred_xgb =xgb.predict(x_testt)"
   ]
  },
  {
   "cell_type": "code",
   "execution_count": 67,
   "id": "2fd13801",
   "metadata": {},
   "outputs": [],
   "source": [
    "score_xgb=r2_score(y_pred_xgb,y_test)"
   ]
  },
  {
   "cell_type": "code",
   "execution_count": 68,
   "id": "9d0b736a",
   "metadata": {},
   "outputs": [
    {
     "data": {
      "text/plain": [
       "0.5633649657408886"
      ]
     },
     "execution_count": 68,
     "metadata": {},
     "output_type": "execute_result"
    }
   ],
   "source": [
    "score_xgb"
   ]
  },
  {
   "cell_type": "code",
   "execution_count": 69,
   "id": "5ba0a7ec",
   "metadata": {},
   "outputs": [
    {
     "data": {
      "text/html": [
       "<div>\n",
       "<style scoped>\n",
       "    .dataframe tbody tr th:only-of-type {\n",
       "        vertical-align: middle;\n",
       "    }\n",
       "\n",
       "    .dataframe tbody tr th {\n",
       "        vertical-align: top;\n",
       "    }\n",
       "\n",
       "    .dataframe thead th {\n",
       "        text-align: right;\n",
       "    }\n",
       "</style>\n",
       "<table border=\"1\" class=\"dataframe\">\n",
       "  <thead>\n",
       "    <tr style=\"text-align: right;\">\n",
       "      <th></th>\n",
       "      <th>Model</th>\n",
       "      <th>R2_score</th>\n",
       "    </tr>\n",
       "  </thead>\n",
       "  <tbody>\n",
       "    <tr>\n",
       "      <th>0</th>\n",
       "      <td>RandomForest Regression</td>\n",
       "      <td>0.520492</td>\n",
       "    </tr>\n",
       "    <tr>\n",
       "      <th>1</th>\n",
       "      <td>Xgboost Regression</td>\n",
       "      <td>0.563365</td>\n",
       "    </tr>\n",
       "  </tbody>\n",
       "</table>\n",
       "</div>"
      ],
      "text/plain": [
       "                     Model  R2_score\n",
       "0  RandomForest Regression  0.520492\n",
       "1       Xgboost Regression  0.563365"
      ]
     },
     "execution_count": 69,
     "metadata": {},
     "output_type": "execute_result"
    }
   ],
   "source": [
    "\n",
    "\n",
    "Report = pd.DataFrame(data={'Model':['RandomForest Regression','Xgboost Regression'],'R2_score':[score_rf,score_xgb]})\n",
    "Report"
   ]
  },
  {
   "cell_type": "markdown",
   "id": "12043ed5",
   "metadata": {},
   "source": [
    "# final\n",
    "\n",
    "1. XGBoost demonstrated the best performance.\n",
    "\n",
    "2. Only the most relevant features for prediction were selected and used in the analysis."
   ]
  }
 ],
 "metadata": {
  "kernelspec": {
   "display_name": "Python 3 (ipykernel)",
   "language": "python",
   "name": "python3"
  },
  "language_info": {
   "codemirror_mode": {
    "name": "ipython",
    "version": 3
   },
   "file_extension": ".py",
   "mimetype": "text/x-python",
   "name": "python",
   "nbconvert_exporter": "python",
   "pygments_lexer": "ipython3",
   "version": "3.8.8"
  },
  "toc": {
   "base_numbering": 1,
   "nav_menu": {},
   "number_sections": true,
   "sideBar": true,
   "skip_h1_title": false,
   "title_cell": "Table of Contents",
   "title_sidebar": "Contents",
   "toc_cell": false,
   "toc_position": {},
   "toc_section_display": true,
   "toc_window_display": false
  }
 },
 "nbformat": 4,
 "nbformat_minor": 5
}
